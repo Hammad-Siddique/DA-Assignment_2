{
 "cells": [
  {
   "cell_type": "markdown",
   "id": "69c2e3a8-b682-4eaa-bf05-32eac3b18b7c",
   "metadata": {},
   "source": [
    "### Question 1: Age Group Classification\n",
    "### Write a Python program that takes the age of a person as input and classifies them into one of the following age groups:\n",
    "### \"Child\" if the age is between 0 and 12 (inclusive).\n",
    "### \"Teenager\" if the age is between 13 and 19 (inclusive).\n",
    "### \"Adult\" if the age is between 20 and 64 (inclusive).\n",
    "### \"Senior\" if the age is 65 or older.\n"
   ]
  },
  {
   "cell_type": "code",
   "execution_count": 5,
   "id": "2c2931a2-151c-46b0-9455-da7cd3d076fb",
   "metadata": {},
   "outputs": [
    {
     "name": "stdin",
     "output_type": "stream",
     "text": [
      "Enter the age 5\n"
     ]
    },
    {
     "name": "stdout",
     "output_type": "stream",
     "text": [
      "Child\n"
     ]
    }
   ],
   "source": [
    "age=float(input(\"Enter the age\"))\n",
    "\n",
    "if(age<=0):\n",
    "    print(\"You are entering an invalid age\")\n",
    "elif(age<=12):\n",
    "    print(\"Child\")\n",
    "elif(age<=19):\n",
    "    print(\"Teenager\") \n",
    "elif(age<=64):\n",
    "    print(\"Adult\") \n",
    "else:\n",
    "    print(\"Senior\")"
   ]
  },
  {
   "cell_type": "markdown",
   "id": "2f1c930e-187f-4689-9719-591b135e3697",
   "metadata": {},
   "source": [
    "### Question 2: Checking for Eligibility for Discount\n",
    "### Write a Python program that determines if a customer is eligible for a discount. The program should take the customer's membership status and purchase amount as input and check the following conditions:\n",
    "### The customer is a \"premium\" member and the purchase amount is greater than or equal to 1000.\n",
    "### The customer is a \"regular\" member and the purchase amount is greater than or equal to 2000.\n",
    "### If the customer meets either of the above conditions, print \"Eligible for discount\", otherwise print\n",
    "### \"Not eligible for discount\"."
   ]
  },
  {
   "cell_type": "code",
   "execution_count": 4,
   "id": "e441a0a2-8d0f-450e-867f-dc899e6264af",
   "metadata": {},
   "outputs": [
    {
     "name": "stdin",
     "output_type": "stream",
     "text": [
      "Kindlt input your customer status:\n",
      "\t premium \n",
      "\t regular : premiym\n",
      "Enter the purchase amount 54\n"
     ]
    },
    {
     "name": "stdout",
     "output_type": "stream",
     "text": [
      "Not eligible for discount\n"
     ]
    }
   ],
   "source": [
    "status=input(\"Kindlt input your customer status:\\n\\t premium \\n\\t regular :\").strip().lower()\n",
    "amount=float(input(\"Enter the purchase amount\"))\n",
    "\n",
    "if(status==\"premium\" and amount >=1000 ):\n",
    "    print(\"Eligible for discount\")\n",
    "elif(status==\"regular\" and amount >=2000 ):\n",
    "    print(\"Eligible for discount\")\n",
    "else:\n",
    "    print(\"Not eligible for discount\")\n"
   ]
  },
  {
   "cell_type": "markdown",
   "id": "420db2c6-94ea-4069-abf0-7e39970897a2",
   "metadata": {},
   "source": [
    "### Question 3: Voting Eligibility Check\n",
    "### Write a Python program that checks if a person is eligible to vote based on their age and citizenship status. The program should take the following inputs:\n",
    "### Age (an integer).\n",
    "### Citizenship status (a string: either \"citizen\" or \"non-citizen\").\n",
    "### The eligibility conditions are:\n",
    "### The person must be at least 18 years old and a \"citizen\" to be eligible to vote.\n",
    "### Alternatively, the person can be at least 16 years old and a \"citizen\" of a special region where voting is allowed from age 16.\n",
    "### If the person meets either of the conditions, print \"Eligible to vote\", otherwise print \"Not eligible to vote\"."
   ]
  },
  {
   "cell_type": "code",
   "execution_count": 7,
   "id": "3d72bff0-e17d-4ea7-b926-bfe607b823dc",
   "metadata": {},
   "outputs": [
    {
     "name": "stdin",
     "output_type": "stream",
     "text": [
      "Enter your age: 45\n",
      "Enter your Citizenship status: \n",
      "\t Citizen \n",
      "\t Non-Citizen citizen\n"
     ]
    },
    {
     "name": "stdout",
     "output_type": "stream",
     "text": [
      "Eligible For Vote\n"
     ]
    }
   ],
   "source": [
    "age=int(input(\"Enter your age:\"))\n",
    "citizenship=str(input(\"Enter your Citizenship status: \\n\\t Citizen \\n\\t Non-Citizen\")).lower()\n",
    "\n",
    "if(age>=18 and citizenship==\"citizen\") or (age>=16 and citizenship==\"citizen\"):\n",
    "    print(\"Eligible For Vote\")\n",
    "\n",
    "else:\n",
    "    print(\"Not eligible to vote\")\n"
   ]
  },
  {
   "cell_type": "markdown",
   "id": "8f03abce-6adf-4222-9cdc-ad81a024b141",
   "metadata": {},
   "source": [
    "### Question 4: Employee Salary Bonus Eligibility\n",
    "### Write a Python program that determines if an employee is eligible for a salary bonus based on the following conditions:\n",
    "### The employee's performance rating is \"Excellent\" and their years of service are greater than or equal to 5 years.\n",
    "###  The employee's performance rating is \"Good\" and their years of service are greater than or equal to 10 years.\n",
    "### The employee's performance rating is \"Satisfactory\" or their years of service are greater than or equal to 15 years.\n",
    "### The employee is not eligible for a bonus if neither of these conditions is met.\n",
    "### The employee is not eligible for a bonus if neither of these conditions is met.\n",
    "### The program should print one of the following:\n",
    "### \"Eligible for bonus\" if the employee meets any of the criteria.\n",
    "### \"Not eligible for bonus\" if none of the conditions apply."
   ]
  },
  {
   "cell_type": "code",
   "execution_count": 10,
   "id": "8431ab54-9961-4db2-b4f5-71f4559f84bd",
   "metadata": {},
   "outputs": [
    {
     "name": "stdin",
     "output_type": "stream",
     "text": [
      "Enter your perforamce status: \n",
      "\t Excellent \n",
      "\t Good \n",
      "\t Satisfactory good\n",
      "Enter your years of service: 15\n"
     ]
    },
    {
     "name": "stdout",
     "output_type": "stream",
     "text": [
      "Eligible for bones\n"
     ]
    }
   ],
   "source": [
    "performance=str(input(\"Enter your perforamce status: \\n\\t Excellent \\n\\t Good \\n\\t Satisfactory\")).lower()\n",
    "year=int(input(\"Enter your years of service:\"))\n",
    "\n",
    "\n",
    "if(performance==\"excellent\" and year>=5):\n",
    "    print(\"Eligible for bones\")\n",
    "elif(performance==\"good\" and year>=10):\n",
    "    print(\"Eligible for bones\")\n",
    "elif(performance==\"satisfactory\" and year>=15):\n",
    "    print(\"Eligible for bones\")\n",
    "else:\n",
    "    print(\"Not eligible for bones\")\n"
   ]
  },
  {
   "cell_type": "markdown",
   "id": "4469afc2-f6e3-48c8-9720-874fa67e3981",
   "metadata": {},
   "source": [
    "### Question 5. Write a program that replaces spaces with underscores, counts how many underscores are there, and finds the position of the first underscore. Use text: \"I'm learning Python programming\"?"
   ]
  },
  {
   "cell_type": "code",
   "execution_count": 13,
   "id": "50d4ca7d-dda0-41eb-b8a9-f1a9e8ebba65",
   "metadata": {},
   "outputs": [
    {
     "name": "stdout",
     "output_type": "stream",
     "text": [
      "I'm_learning_Python_programming\n",
      "3\n",
      "3\n"
     ]
    }
   ],
   "source": [
    "text=\"I'm learning Python programming\"\n",
    "replace=text.replace(\" \",\"_\") #replaces spaces with underscore\n",
    "print(replace)\n",
    "count=replace.count(\"_\") # count how many underscores\n",
    "print(count)\n",
    "find=replace.index(\"_\") # position of the first underscore\n",
    "print(find)"
   ]
  },
  {
   "cell_type": "markdown",
   "id": "748278f1-539e-4564-b4d2-5e834982358d",
   "metadata": {},
   "source": [
    "### Question 6: Write a Python program that:\n",
    "### ● Takes a string as input.\n",
    "### ● Prints all characters of the string except the last 3 using slicing.\n",
    "### ● Prints every second character of the string using slicing.\n",
    "### ● Prints the string in reverse using slicing"
   ]
  },
  {
   "cell_type": "code",
   "execution_count": 16,
   "id": "84b424bd-e710-496f-8f7d-272db6e94473",
   "metadata": {},
   "outputs": [
    {
     "name": "stdin",
     "output_type": "stream",
     "text": [
      "Write a Sentence about yourself: i am hammad\n"
     ]
    },
    {
     "name": "stdout",
     "output_type": "stream",
     "text": [
      "i am ham\n",
      "imaa\n",
      "dammah ma i\n"
     ]
    }
   ],
   "source": [
    "string=input(\"Write a Sentence about yourself:\")\n",
    "string1=string[:-3]\n",
    "print(string1)\n",
    "print(string[::3])\n",
    "print(string[::-1])"
   ]
  },
  {
   "cell_type": "markdown",
   "id": "ddbdeb2f-f0ea-4a13-a056-e216869f8907",
   "metadata": {},
   "source": [
    "### Question 7. Given a sentence, you need to reverse the order of the words in the sentence while preserving their original capitalization and spaces. Use text : \"Hello World, We are learning Python\""
   ]
  },
  {
   "cell_type": "code",
   "execution_count": 19,
   "id": "9877b1ac-5a2e-44ea-b56b-488847c7049e",
   "metadata": {},
   "outputs": [
    {
     "name": "stdout",
     "output_type": "stream",
     "text": [
      "Python learning are We World, Hello\n"
     ]
    }
   ],
   "source": [
    "text=\"Hello World, We are learning Python\"\n",
    "reversed=\" \".join(text.split()[::-1])\n",
    "print(reversed)"
   ]
  },
  {
   "cell_type": "markdown",
   "id": "ff1bdcab-8dfa-461c-b6f0-0c8c9885d426",
   "metadata": {},
   "source": [
    "### Question 8. You have a product code that follows the format \"SKU-12345-XYZ\". You need to:\n",
    "### Remove the \"SKU-\" and the \"-XYZ\" from the product code. Extract and return the number"
   ]
  },
  {
   "cell_type": "code",
   "execution_count": 22,
   "id": "6fb8dae4-123c-4ace-9eb1-2c4ff272c399",
   "metadata": {},
   "outputs": [
    {
     "name": "stdout",
     "output_type": "stream",
     "text": [
      "12345\n"
     ]
    }
   ],
   "source": [
    "code=\"SKU-12345-XYZ\"\n",
    "num=code.replace(\"SKU-\",\"\").replace(\"-XYZ\",\"\") # For extract the num\n",
    "print(num)"
   ]
  },
  {
   "cell_type": "markdown",
   "id": "77bf5f96-8313-4a42-b0e8-f3ba188629ee",
   "metadata": {},
   "source": [
    "## Question 9. Write a Python program to check user password has following:\n",
    "### Whether the string contains any uppercase characters. Whether the string contains any lowercase characters. Whether the string contains any spaces. Whether the string contains any special characters (anything other than letters, digits, and spaces).\n"
   ]
  },
  {
   "cell_type": "code",
   "execution_count": 1,
   "id": "a3faaaf5-fc01-48c0-852a-bf06ff7fc706",
   "metadata": {},
   "outputs": [
    {
     "name": "stdin",
     "output_type": "stream",
     "text": [
      "Enter Password hammad@2007\n"
     ]
    },
    {
     "name": "stdout",
     "output_type": "stream",
     "text": [
      "Password contains an uppercase Character. False\n",
      "Password contains an lowercase Character. True\n",
      "Password contains an Space or special Character. True\n"
     ]
    }
   ],
   "source": [
    "string = input(\"Enter Password\")\n",
    "\n",
    "uppercase = any(c.isupper() for c in string) #check uppercase character\n",
    "lowercase = any(c.islower() for c in string) #check lowercase character\n",
    "special_character = any(c.isalnum() for c in string) #check space or Special character\n",
    "\n",
    "print(\"Password contains an uppercase Character.\", uppercase)\n",
    "print(\"Password contains an lowercase Character.\", lowercase)\n",
    "print(\"Password contains an Space or special Character.\", special_character)"
   ]
  },
  {
   "cell_type": "markdown",
   "id": "26690ede-7a1f-400d-a3aa-2f2a8eb94e66",
   "metadata": {},
   "source": [
    "## Question 10: Find the Longest Word\n",
    "#### Write a Python program that finds the longest word in a given string.\n",
    "#### Example:\n",
    "#### Input: &quot;I love programming in Python&quot;\n",
    "#### Output: &quot;programming&quot;"
   ]
  },
  {
   "cell_type": "code",
   "execution_count": 2,
   "id": "fbbdb51b-54f6-4477-9f64-713536107029",
   "metadata": {},
   "outputs": [
    {
     "name": "stdin",
     "output_type": "stream",
     "text": [
      "Do you love python programming : i love programming\n"
     ]
    },
    {
     "name": "stdout",
     "output_type": "stream",
     "text": [
      "The longest word is: programming\n"
     ]
    }
   ],
   "source": [
    "string = input(\"Do you love python programming :\")\n",
    "word = string.split()\n",
    "long_word = max(word, key=len)\n",
    "print(\"The longest word is:\", long_word)"
   ]
  },
  {
   "cell_type": "code",
   "execution_count": null,
   "id": "124fc1f0-467e-476f-a132-6b2a1d3dc71d",
   "metadata": {},
   "outputs": [],
   "source": []
  }
 ],
 "metadata": {
  "kernelspec": {
   "display_name": "Python 3 (ipykernel)",
   "language": "python",
   "name": "python3"
  },
  "language_info": {
   "codemirror_mode": {
    "name": "ipython",
    "version": 3
   },
   "file_extension": ".py",
   "mimetype": "text/x-python",
   "name": "python",
   "nbconvert_exporter": "python",
   "pygments_lexer": "ipython3",
   "version": "3.12.7"
  }
 },
 "nbformat": 4,
 "nbformat_minor": 5
}
